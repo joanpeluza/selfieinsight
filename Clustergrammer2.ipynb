{
 "cells": [
  {
   "cell_type": "code",
   "execution_count": 8,
   "metadata": {},
   "outputs": [],
   "source": []
  },
  {
   "cell_type": "code",
   "execution_count": 2,
   "metadata": {},
   "outputs": [
    {
     "data": {
      "application/vnd.jupyter.widget-view+json": {
       "model_id": "4332295e382e4f199a98a2a86e5704aa",
       "version_major": 2,
       "version_minor": 0
      },
      "text/plain": [
       "CGM2(network='{\"row_nodes\": [{\"name\": \"Name: 1170010_624312000972404_1115716294_a.csv\", \"ini\": 25, \"clust\": 15…"
      ]
     },
     "metadata": {},
     "output_type": "display_data"
    }
   ],
   "source": [
    "#WELCOME TO SELFIE INSIGHT!\n",
    "\n",
    "#All you need to do here is replace the path with the location of the txt files created in the visual builder \n",
    "#We are leavng three cells for you to compare relevant heatmaps\n",
    "\n",
    "#-----------\n",
    "\n",
    "net.load_file('/Users/joanpeluza/Desktop/selfie insight/VISUAL 25-ECO/chosen-2.txt')\n",
    "df = net.export_df()\n",
    "net.load_df(df)\n",
    "#net.normalize(axis='col', norm_type='zscore')\n",
    "net.widget()"
   ]
  },
  {
   "cell_type": "code",
   "execution_count": 4,
   "metadata": {},
   "outputs": [
    {
     "data": {
      "application/vnd.jupyter.widget-view+json": {
       "model_id": "9085b89e5b15468f8f9bcc9abb7e268c",
       "version_major": 2,
       "version_minor": 0
      },
      "text/plain": [
       "CGM2(network='{\"row_nodes\": [{\"name\": \"Name: 1170010_624312000972404_1115716294_a.csv\", \"ini\": 25, \"clust\": 15…"
      ]
     },
     "metadata": {},
     "output_type": "display_data"
    }
   ],
   "source": [
    "net.load_file('/Users/joanpeluza/Desktop/selfie insight/VISUAL 25-ECO/chosen-2.txt')\n",
    "df = net.export_df()\n",
    "net.load_df(df)\n",
    "net.widget()"
   ]
  },
  {
   "cell_type": "code",
   "execution_count": 3,
   "metadata": {},
   "outputs": [
    {
     "data": {
      "application/vnd.jupyter.widget-view+json": {
       "model_id": "70931dc48cab4529a9c1c254e3405a4a",
       "version_major": 2,
       "version_minor": 0
      },
      "text/plain": [
       "CGM2(network='{\"row_nodes\": [{\"name\": \"Name: 1170010_624312000972404_1115716294_a.csv\", \"ini\": 25, \"clust\": 15…"
      ]
     },
     "metadata": {},
     "output_type": "display_data"
    }
   ],
   "source": [
    "net.load_file('/Users/joanpeluza/Desktop/selfie insight/VISUAL 25-ECO/chosen-2.txt')\n",
    "df2 = net.export_df()\n",
    "net.load_df(df2)\n",
    "#net.normalize(axis='col', norm_type='zscore')\n",
    "net.widget()"
   ]
  },
  {
   "cell_type": "code",
   "execution_count": 50,
   "metadata": {},
   "outputs": [
    {
     "data": {
      "application/vnd.jupyter.widget-view+json": {
       "model_id": "774ecbd854f84b11a740d5cdf278fd73",
       "version_major": 2,
       "version_minor": 0
      },
      "text/plain": [
       "CGM2(network='{\"row_nodes\": [{\"name\": \"Name: 024696bead0c11e389d50ec42b3b1b1c_6.csv\", \"ini\": 2500, \"clust\": 20…"
      ]
     },
     "metadata": {},
     "output_type": "display_data"
    }
   ],
   "source": [
    "#3rd dataset\n",
    "net.load_file('/Users/joanpeluza/Desktop/visual-5clusters.txt')\n",
    "df3 = net.export_df()\n",
    "net.load_df(df3)\n",
    "net.widget()"
   ]
  },
  {
   "cell_type": "code",
   "execution_count": null,
   "metadata": {},
   "outputs": [],
   "source": []
  }
 ],
 "metadata": {
  "kernelspec": {
   "display_name": "Python 3",
   "language": "python",
   "name": "python3"
  },
  "language_info": {
   "codemirror_mode": {
    "name": "ipython",
    "version": 3
   },
   "file_extension": ".py",
   "mimetype": "text/x-python",
   "name": "python",
   "nbconvert_exporter": "python",
   "pygments_lexer": "ipython3",
   "version": "3.7.6"
  }
 },
 "nbformat": 4,
 "nbformat_minor": 4
}
